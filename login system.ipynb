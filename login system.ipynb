{
 "cells": [
  {
   "cell_type": "code",
   "execution_count": 2,
   "id": "3645fd7f",
   "metadata": {},
   "outputs": [
    {
     "name": "stdout",
     "output_type": "stream",
     "text": [
      "Welcome to Employee System\n",
      "Please Enter Login id:  02\n",
      "Please Enter Password:  Devidutta\n",
      "Enter the id again: 02\n",
      "enter 1 to view details\n",
      "enter 2 to view all HR names\n",
      "enter q to exit\n",
      "Enter your choice2\n",
      "Local,Devidutta Sahoo,Sales\n",
      "\n",
      "Local,Devidutta Sahoo,Manager\n",
      "enter 1 to view details\n",
      "enter 2 to view all HR names\n",
      "enter q to exit\n",
      "Enter your choiceq\n"
     ]
    }
   ],
   "source": [
    "import login"
   ]
  },
  {
   "cell_type": "code",
   "execution_count": null,
   "id": "36e833c5",
   "metadata": {},
   "outputs": [],
   "source": []
  }
 ],
 "metadata": {
  "kernelspec": {
   "display_name": "Python 3",
   "language": "python",
   "name": "python3"
  },
  "language_info": {
   "codemirror_mode": {
    "name": "ipython",
    "version": 3
   },
   "file_extension": ".py",
   "mimetype": "text/x-python",
   "name": "python",
   "nbconvert_exporter": "python",
   "pygments_lexer": "ipython3",
   "version": "3.8.8"
  }
 },
 "nbformat": 4,
 "nbformat_minor": 5
}
